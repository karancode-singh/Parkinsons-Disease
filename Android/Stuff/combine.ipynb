{
 "cells": [
  {
   "cell_type": "code",
   "execution_count": 6,
   "metadata": {},
   "outputs": [
    {
     "name": "stdout",
     "output_type": "stream",
     "text": [
      "['control', 'Untitled.ipynb', 'parkinson', 'combine.ipynb', 'predict.ipynb', '.ipynb_checkpoints', 'readme.txt']\n"
     ]
    }
   ],
   "source": [
    "import os\n",
    "import pandas as pd\n",
    "print(os.listdir())"
   ]
  },
  {
   "cell_type": "code",
   "execution_count": 7,
   "metadata": {},
   "outputs": [],
   "source": [
    "ctrl_path = \"control/\"\n",
    "control_files_list = [f for f in os.listdir(ctrl_path) if os.path.isfile(os.path.join(ctrl_path, f))]\n",
    "park_path = \"parkinson/\"\n",
    "parkinson_files_list = [f for f in os.listdir(park_path) if os.path.isfile(os.path.join(park_path, f))]\n",
    "subject = 0"
   ]
  },
  {
   "cell_type": "code",
   "execution_count": 8,
   "metadata": {
    "scrolled": true
   },
   "outputs": [
    {
     "data": {
      "text/plain": [
       "['C_0002.txt',\n",
       " 'C_0015.txt',\n",
       " 'C_0007.txt',\n",
       " 'C_0005.txt',\n",
       " 'C_0011.txt',\n",
       " 'C_0012.txt',\n",
       " 'C_0013.txt',\n",
       " 'C_0003.txt',\n",
       " 'C_0004.txt',\n",
       " 'C_0010.txt',\n",
       " 'C_0008.txt',\n",
       " 'C_0014.txt',\n",
       " 'C_0001.txt',\n",
       " 'C_0006.txt',\n",
       " 'C_0009.txt']"
      ]
     },
     "execution_count": 8,
     "metadata": {},
     "output_type": "execute_result"
    }
   ],
   "source": [
    "control_files_list"
   ]
  },
  {
   "cell_type": "code",
   "execution_count": 24,
   "metadata": {},
   "outputs": [],
   "source": [
    "with open(ctrl_path + 'control_all.csv', 'w') as outfile:\n",
    "    for fname in control_files_list:\n",
    "        fname = ctrl_path + fname\n",
    "        with open(fname) as infile:\n",
    "            subject = subject + 1\n",
    "            for line in infile:\n",
    "                line = str(subject) + \",\" + line\n",
    "                line = line.replace(';', ',')  # make it csv\n",
    "                outfile.write(line)"
   ]
  },
  {
   "cell_type": "code",
   "execution_count": 25,
   "metadata": {},
   "outputs": [],
   "source": [
    "with open(park_path + 'park_all.csv', 'w') as outfile:\n",
    "    for fname in parkinson_files_list:\n",
    "        fname = park_path + fname\n",
    "        with open(fname) as infile:\n",
    "            subject = subject + 1\n",
    "            for line in infile:\n",
    "                line = str(subject) + \",\" + line\n",
    "                line = line.replace(';', ',')\n",
    "                outfile.write(line)"
   ]
  },
  {
   "cell_type": "code",
   "execution_count": 26,
   "metadata": {},
   "outputs": [],
   "source": [
    "df = pd.read_csv(ctrl_path + 'control_all.csv')\n",
    "df.columns = ['Subject','X', 'Y', 'Z', 'Pressure', 'GripAngle', 'Timestamp', 'Test_ID']\n",
    "df['PWP'] = 0\n",
    "df.to_csv(ctrl_path + 'control_all_with_header.csv', index=False)"
   ]
  },
  {
   "cell_type": "code",
   "execution_count": 28,
   "metadata": {},
   "outputs": [],
   "source": [
    "df = pd.read_csv(park_path + 'park_all.csv')\n",
    "df.columns = ['Subject','X', 'Y', 'Z', 'Pressure', 'GripAngle', 'Timestamp', 'Test_ID']\n",
    "df['PWP'] = 1\n",
    "df.to_csv(park_path + 'park_all_with_header.csv', index=False)"
   ]
  },
  {
   "cell_type": "code",
   "execution_count": null,
   "metadata": {},
   "outputs": [],
   "source": []
  }
 ],
 "metadata": {
  "kernelspec": {
   "display_name": "Python 3",
   "language": "python",
   "name": "python3"
  },
  "language_info": {
   "codemirror_mode": {
    "name": "ipython",
    "version": 3
   },
   "file_extension": ".py",
   "mimetype": "text/x-python",
   "name": "python",
   "nbconvert_exporter": "python",
   "pygments_lexer": "ipython3",
   "version": "3.6.6"
  }
 },
 "nbformat": 4,
 "nbformat_minor": 2
}
