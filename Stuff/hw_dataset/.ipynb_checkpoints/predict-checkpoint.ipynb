{
 "cells": [
  {
   "cell_type": "code",
   "execution_count": 1,
   "metadata": {},
   "outputs": [],
   "source": [
    "import pandas as pd"
   ]
  },
  {
   "cell_type": "code",
   "execution_count": 2,
   "metadata": {},
   "outputs": [],
   "source": [
    "ctrl_path = \"control/\"\n",
    "park_path = \"parkinson/\""
   ]
  },
  {
   "cell_type": "code",
   "execution_count": 4,
   "metadata": {},
   "outputs": [
    {
     "name": "stdout",
     "output_type": "stream",
     "text": [
      "<class 'pandas.core.frame.DataFrame'>\n",
      "Int64Index: 322967 entries, 0 to 202657\n",
      "Data columns (total 9 columns):\n",
      "Subject      322967 non-null int64\n",
      "X            322967 non-null int64\n",
      "Y            322967 non-null int64\n",
      "Z            322967 non-null int64\n",
      "Pressure     322967 non-null int64\n",
      "GripAngle    322967 non-null int64\n",
      "Timestamp    322967 non-null int64\n",
      "Test_ID      322967 non-null int64\n",
      "PWP          322967 non-null int64\n",
      "dtypes: int64(9)\n",
      "memory usage: 24.6 MB\n"
     ]
    },
    {
     "data": {
      "text/plain": [
       "(None,    Subject    X    Y   Z  Pressure  GripAngle   Timestamp  Test_ID  PWP\n",
       " 0       41  199  202   0       202        860  1732464838        0    0\n",
       " 1       41  199  202   0       276        860  1732464845        0    0\n",
       " 2       41  199  202  12       328        860  1732464852        0    0\n",
       " 3       41  199  202   0       373        860  1732464859        0    0\n",
       " 4       41  199  203   0       409        860  1732464866        0    0)"
      ]
     },
     "execution_count": 4,
     "metadata": {},
     "output_type": "execute_result"
    }
   ],
   "source": [
    "df_ctrl = pd.read_csv(ctrl_path + \"control_all_with_header.csv\")\n",
    "df_park = pd.read_csv(park_path + \"park_all_with_header.csv\")\n",
    "df = pd.concat([df_ctrl, df_park])\n",
    "df.info(), df.head()"
   ]
  },
  {
   "cell_type": "code",
   "execution_count": 8,
   "metadata": {},
   "outputs": [
    {
     "name": "stdout",
     "output_type": "stream",
     "text": [
      "<class 'pandas.core.frame.DataFrame'>\n",
      "Int64Index: 322967 entries, 0 to 202657\n",
      "Data columns (total 6 columns):\n",
      "X            322967 non-null int64\n",
      "Y            322967 non-null int64\n",
      "Z            322967 non-null int64\n",
      "Pressure     322967 non-null int64\n",
      "GripAngle    322967 non-null int64\n",
      "Timestamp    322967 non-null int64\n",
      "dtypes: int64(6)\n",
      "memory usage: 17.2 MB\n"
     ]
    },
    {
     "data": {
      "text/plain": [
       "(None, (322967, 1))"
      ]
     },
     "execution_count": 8,
     "metadata": {},
     "output_type": "execute_result"
    }
   ],
   "source": [
    "train_x = df[['X', 'Y', 'Z', 'Pressure', 'GripAngle', 'Timestamp']]\n",
    "train_y = df[['PWP']]\n",
    "train_x.info(), train_y.shape"
   ]
  },
  {
   "cell_type": "code",
   "execution_count": 9,
   "metadata": {},
   "outputs": [],
   "source": [
    "from sklearn.model_selection import train_test_split"
   ]
  },
  {
   "cell_type": "code",
   "execution_count": 10,
   "metadata": {},
   "outputs": [],
   "source": [
    "x_train, x_test, y_train, y_test = train_test_split(train_x, train_y)"
   ]
  },
  {
   "cell_type": "code",
   "execution_count": 11,
   "metadata": {},
   "outputs": [],
   "source": [
    "#using logistic reg\n",
    "from sklearn.linear_model import LinearRegression"
   ]
  },
  {
   "cell_type": "code",
   "execution_count": 13,
   "metadata": {},
   "outputs": [],
   "source": [
    "reg = LinearRegression().fit(x_train, y_train)"
   ]
  },
  {
   "cell_type": "code",
   "execution_count": 14,
   "metadata": {},
   "outputs": [
    {
     "data": {
      "text/plain": [
       "0.31615609223972807"
      ]
     },
     "execution_count": 14,
     "metadata": {},
     "output_type": "execute_result"
    }
   ],
   "source": [
    "reg.score(x_train, y_train)"
   ]
  },
  {
   "cell_type": "code",
   "execution_count": 15,
   "metadata": {},
   "outputs": [],
   "source": [
    "#using SVM\n",
    "from sklearn.svm import SVC"
   ]
  },
  {
   "cell_type": "code",
   "execution_count": null,
   "metadata": {},
   "outputs": [
    {
     "name": "stderr",
     "output_type": "stream",
     "text": [
      "/home/imshambles/tensorflow/tensorflow_pkg/tf_1.11.0_cuda10.0/lib/python3.6/site-packages/sklearn/utils/validation.py:752: DataConversionWarning: A column-vector y was passed when a 1d array was expected. Please change the shape of y to (n_samples, ), for example using ravel().\n",
      "  y = column_or_1d(y, warn=True)\n"
     ]
    }
   ],
   "source": [
    "clf = SVC(gamma='auto')\n",
    "clf.fit(x_train, y_train)"
   ]
  },
  {
   "cell_type": "code",
   "execution_count": null,
   "metadata": {},
   "outputs": [],
   "source": []
  }
 ],
 "metadata": {
  "kernelspec": {
   "display_name": "Python 3",
   "language": "python",
   "name": "python3"
  },
  "language_info": {
   "codemirror_mode": {
    "name": "ipython",
    "version": 3
   },
   "file_extension": ".py",
   "mimetype": "text/x-python",
   "name": "python",
   "nbconvert_exporter": "python",
   "pygments_lexer": "ipython3",
   "version": "3.6.6"
  }
 },
 "nbformat": 4,
 "nbformat_minor": 2
}
